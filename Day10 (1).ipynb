{
  "nbformat": 4,
  "nbformat_minor": 0,
  "metadata": {
    "colab": {
      "provenance": []
    },
    "kernelspec": {
      "name": "python3",
      "display_name": "Python 3"
    },
    "language_info": {
      "name": "python"
    }
  },
  "cells": [
    {
      "cell_type": "markdown",
      "source": [
        "# Step 1 – Clone the Required Repositories\n",
        "\n",
        "**Objective:**  \n",
        "Download both repositories so that their folders are available locally:\n",
        "\n",
        "- `Face-Generator-with-GAN/`\n",
        "- `Gender-Style-Transfer/`\n",
        "\n"
      ],
      "metadata": {
        "id": "7zLAILXacFEv"
      }
    },
    {
      "cell_type": "code",
      "execution_count": null,
      "metadata": {
        "id": "W9ZagIXKb8Ip"
      },
      "outputs": [],
      "source": [
        "# Clone the required repositories directly from within the notebook\n",
        "!git clone https://github.com/AshishJangra27/Face-Generator-with-GAN.git\n",
        "!git clone https://github.com/AshishJangra27/Gender-Style-Transfer.git\n",
        "\n",
        "# List the contents of the current directory to verify the folders\n",
        "!ls\n",
        "\n"
      ]
    },
    {
      "cell_type": "markdown",
      "source": [
        "# Step 2 – Install and Import Dependencies\n",
        "\n",
        "The cloned repositories rely on a few common Python libraries.\n",
        "\n",
        "**Goal of this step**\n",
        "* Install the core packages required for loading the generator and manipulating images.\n",
        "* Verify that we can import them successfully.\n",
        "\n",
        "Required packages:\n",
        "* `torch` – PyTorch for deep learning.\n",
        "* `torchvision` – for utilities like saving images.\n",
        "* `numpy` – numerical computations.\n",
        "* `Pillow` – image processing.\n"
      ],
      "metadata": {
        "id": "chEpB46mcQyH"
      }
    },
    {
      "cell_type": "code",
      "source": [
        "# Install core dependencies (the -q flag keeps output quieter)\n",
        "!pip install -q torch torchvision numpy pillow\n",
        "\n",
        "# Verify that PyTorch detects GPU (optional but good to check)\n",
        "import torch\n",
        "print(\"PyTorch version:\", torch.__version__)\n",
        "print(\"CUDA available:\", torch.cuda.is_available())\n"
      ],
      "metadata": {
        "id": "rmXy2r6ucV3V"
      },
      "execution_count": null,
      "outputs": []
    },
    {
      "cell_type": "markdown",
      "source": [
        "# Step 3 – Load and Fine-tune the Pre-trained Generator"
      ],
      "metadata": {
        "id": "gRRFCeJgcYmH"
      }
    },
    {
      "cell_type": "code",
      "source": [
        "# Step 3 – Load and Fine-tune the Generator (fixed output shape)\n",
        "!pip install -q tensorflow matplotlib\n",
        "\n",
        "import tensorflow as tf\n",
        "from tensorflow.keras.models import load_model\n",
        "from tensorflow.keras.optimizers import Adam\n",
        "import numpy as np\n",
        "import matplotlib.pyplot as plt\n",
        "\n",
        "# Load the generator\n",
        "generator = load_model(\"Face-Generator-with-GAN/generator_700.h5\")\n",
        "print(\"Generator loaded successfully.\")\n",
        "\n",
        "# Generate a test image\n",
        "latent_dim = 100\n",
        "z = np.random.randn(1, latent_dim)\n",
        "generated_img = generator.predict(z)\n",
        "plt.imshow((generated_img[0] + 1)/2)\n",
        "plt.axis('off')\n",
        "plt.show()\n",
        "\n",
        "epochs = 10\n",
        "batch_size = 16\n",
        "\n",
        "output_shape = generator.output_shape[1:]  # (128,128,3)\n",
        "\n",
        "optimizer = Adam(learning_rate=0.0002)\n",
        "generator.compile(optimizer=optimizer, loss='mse')\n",
        "\n",
        "for epoch in range(epochs):\n",
        "    z_batch = np.random.randn(batch_size, latent_dim)\n",
        "    y_batch = np.random.randn(batch_size, *output_shape)  # match generator output\n",
        "    loss = generator.train_on_batch(z_batch, y_batch)\n",
        "    print(f\"Epoch {epoch+1}/{epochs}, Loss: {loss:.4f}\")\n",
        "\n",
        "print(\"Fine-tuning complete.\")\n"
      ],
      "metadata": {
        "id": "a5Zgif5IcblO"
      },
      "execution_count": null,
      "outputs": []
    },
    {
      "cell_type": "markdown",
      "source": [
        "# Step 4 – Load the Gender Vector\n",
        "\n"
      ],
      "metadata": {
        "id": "v27WQXnycdfg"
      }
    },
    {
      "cell_type": "code",
      "source": [
        "!ls Gender-Style-Transfer\n"
      ],
      "metadata": {
        "id": "Pde8w5pzckOd"
      },
      "execution_count": null,
      "outputs": []
    },
    {
      "cell_type": "code",
      "source": [
        "# Step 4 – Load the Gender Vector\n",
        "import numpy as np\n",
        "\n",
        "# Load the precomputed gender vector\n",
        "gender_vector = np.load(\"Gender-Style-Transfer/gender_vec.npy\")\n",
        "\n",
        "# Normalize the vector\n",
        "gender_vector = gender_vector / np.linalg.norm(gender_vector)\n",
        "\n",
        "print(\"Gender vector loaded successfully. Shape:\", gender_vector.shape)\n"
      ],
      "metadata": {
        "id": "LVxui5APclof"
      },
      "execution_count": null,
      "outputs": []
    },
    {
      "cell_type": "markdown",
      "source": [
        "# Step 5 – Generate 10 Male→Female Variations\n",
        "\n",
        "---\n",
        "\n"
      ],
      "metadata": {
        "id": "gkfKtGefcsKR"
      }
    },
    {
      "cell_type": "code",
      "source": [
        "#Generate 10 Male→Female Variations\n",
        "import matplotlib.pyplot as plt\n",
        "\n",
        "# 1. Start with a random latent vector\n",
        "z_base = np.random.randn(1, latent_dim)\n",
        "\n",
        "# 2. Define interpolation steps from male (-2) to female (+2)\n",
        "steps = np.linspace(-2.0, 2.0, 10)\n",
        "\n",
        "# 3. Generate images\n",
        "generated_images = []\n",
        "for alpha in steps:\n",
        "    z_mod = z_base + alpha * gender_vector\n",
        "    img = generator.predict(z_mod)\n",
        "    generated_images.append((img[0] + 1)/2)\n",
        "\n",
        "plt.figure(figsize=(20, 4))\n",
        "for i, img in enumerate(generated_images):\n",
        "    plt.subplot(1, 10, i+1)\n",
        "    plt.imshow(img)\n",
        "    plt.axis('off')\n",
        "plt.show()\n"
      ],
      "metadata": {
        "id": "8HhBbvKDcwW_"
      },
      "execution_count": null,
      "outputs": []
    },
    {
      "cell_type": "markdown",
      "source": [
        "# Generate 10 Random Faces and Convert Their Genders"
      ],
      "metadata": {
        "id": "h_jot-_mc4BG"
      }
    },
    {
      "cell_type": "code",
      "source": [
        "# Generate 10 Random Faces and Convert Genders\n",
        "import matplotlib.pyplot as plt\n",
        "\n",
        "num_faces = 10\n",
        "latent_vectors = np.random.randn(num_faces, latent_dim)\n",
        "\n",
        "# Interpolation factor for gender swap\n",
        "alpha = 2.0  # positive → female, negative → male\n",
        "\n",
        "plt.figure(figsize=(20, 4*num_faces))\n",
        "\n",
        "for i, z in enumerate(latent_vectors):\n",
        "    z = z.reshape(1, latent_dim)\n",
        "\n",
        "    # Generate original face\n",
        "    original_img = generator.predict(z)\n",
        "    original_img = (original_img[0] + 1)/2  # scale to [0,1]\n",
        "\n",
        "    # Generate gender-converted face\n",
        "    z_gender = z + alpha * gender_vector\n",
        "    gender_img = generator.predict(z_gender)\n",
        "    gender_img = (gender_img[0] + 1)/2\n",
        "\n",
        "    plt.subplot(num_faces, 2, 2*i+1)\n",
        "    plt.imshow(original_img)\n",
        "    plt.title(\"Original\")\n",
        "    plt.axis('off')\n",
        "\n",
        "    plt.subplot(num_faces, 2, 2*i+2)\n",
        "    plt.imshow(gender_img)\n",
        "    plt.title(\"Gender Converted\")\n",
        "    plt.axis('off')\n",
        "\n",
        "plt.tight_layout()\n",
        "plt.show()\n"
      ],
      "metadata": {
        "id": "Gn_TuLI4c5Qq"
      },
      "execution_count": null,
      "outputs": []
    }
  ]
}